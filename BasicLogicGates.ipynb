{
 "cells": [
  {
   "cell_type": "code",
   "execution_count": 3,
   "metadata": {
    "collapsed": false
   },
   "outputs": [
    {
     "name": "stdout",
     "output_type": "stream",
     "text": [
      "AND gate output:\n",
      "0\n",
      "0\n",
      "0\n",
      "1\n",
      "OR gate output\n",
      "0\n",
      "1\n",
      "1\n",
      "1\n"
     ]
    }
   ],
   "source": [
    "import numpy as np\n",
    "class ANN:\n",
    "    \n",
    "    def __init__(self):\n",
    "        \n",
    "        self.inputlayers = 3\n",
    "        self.outputlayers = 1\n",
    "        self.inputs = [[1,0,0],[1,0,1],[1,1,0],[1,1,1]]\n",
    "        self.weights = []\n",
    "        \n",
    "        #input\n",
    "        # 1 0 0\n",
    "        # 1 0 1\n",
    "        # 1 1 0\n",
    "        # 1 1 1\n",
    "        #Contains a bias node\n",
    "        \n",
    "    def ORgate(self):\n",
    "        \n",
    "        self.weights = [-10,20,20]\n",
    "        z2 = np.dot(self.inputs, self.weights)\n",
    "        a2 = self.sigmoid(z2)\n",
    "        self.print_val(a2)\n",
    "        \n",
    "    def ANDgate(self):\n",
    "        \n",
    "        self.weights = [-50,30,30]        \n",
    "        z2 = np.dot(self.inputs, self.weights)\n",
    "        a2 = self.sigmoid(z2)\n",
    "        self.print_val(a2)\n",
    "        \n",
    "        \n",
    "    def sigmoid(self,z):\n",
    "        return 1/(1+np.exp(-z))\n",
    "    \n",
    "    def print_val(self,values):\n",
    "        for i in values:\n",
    "            if i<0.5:\n",
    "                print 0\n",
    "            else:\n",
    "                print 1\n",
    "            \n",
    "    \n",
    "NN = ANN()\n",
    "print \"AND gate output:\"\n",
    "NN.ANDgate()\n",
    "print \"OR gate output\"\n",
    "NN.ORgate()\n",
    "        "
   ]
  },
  {
   "cell_type": "code",
   "execution_count": null,
   "metadata": {
    "collapsed": true
   },
   "outputs": [],
   "source": []
  }
 ],
 "metadata": {
  "kernelspec": {
   "display_name": "Python 2",
   "language": "python",
   "name": "python2"
  },
  "language_info": {
   "codemirror_mode": {
    "name": "ipython",
    "version": 2
   },
   "file_extension": ".py",
   "mimetype": "text/x-python",
   "name": "python",
   "nbconvert_exporter": "python",
   "pygments_lexer": "ipython2",
   "version": "2.7.6"
  }
 },
 "nbformat": 4,
 "nbformat_minor": 2
}
